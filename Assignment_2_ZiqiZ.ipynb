{
  "nbformat": 4,
  "nbformat_minor": 0,
  "metadata": {
    "colab": {
      "provenance": [],
      "authorship_tag": "ABX9TyOk29Y+SgQEeNJE+XDnT6et",
      "include_colab_link": true
    },
    "kernelspec": {
      "name": "python3",
      "display_name": "Python 3"
    },
    "language_info": {
      "name": "python"
    }
  },
  "cells": [
    {
      "cell_type": "markdown",
      "metadata": {
        "id": "view-in-github",
        "colab_type": "text"
      },
      "source": [
        "<a href=\"https://colab.research.google.com/github/LydiaZiqiZ/MSSP607/blob/main/Assignment_2_ZiqiZ.ipynb\" target=\"_parent\"><img src=\"https://colab.research.google.com/assets/colab-badge.svg\" alt=\"Open In Colab\"/></a>"
      ]
    },
    {
      "cell_type": "markdown",
      "source": [
        "Co-work by Ziqi Zhou (Lydia) and Rong Tan (Vickey)"
      ],
      "metadata": {
        "id": "5botPCf2PbJq"
      }
    },
    {
      "cell_type": "code",
      "execution_count": 2,
      "metadata": {
        "colab": {
          "base_uri": "https://localhost:8080/"
        },
        "id": "IzIxR7VSrSFp",
        "outputId": "a4574f97-6c2d-4d46-fa41-aa14e469c443"
      },
      "outputs": [
        {
          "output_type": "stream",
          "name": "stdout",
          "text": [
            "Drive already mounted at /content/drive; to attempt to forcibly remount, call drive.mount(\"/content/drive\", force_remount=True).\n",
            "/content/drive/MyDrive/MSSP6070/Assignments\n"
          ]
        },
        {
          "output_type": "execute_result",
          "data": {
            "text/plain": [
              "['/content/drive/My Drive/MSSP6070/Assignments', '/content']"
            ]
          },
          "metadata": {},
          "execution_count": 2
        }
      ],
      "source": [
        "from google.colab import drive #Connect Google Drive\n",
        "drive.mount('/content/drive')\n",
        "%pushd \"/content/drive/MyDrive/MSSP6070/Assignments/\""
      ]
    },
    {
      "cell_type": "code",
      "source": [
        "!ls '/content/drive/MyDrive/MSSP6070/Assignments/'  #List the contents of the directory"
      ],
      "metadata": {
        "colab": {
          "base_uri": "https://localhost:8080/"
        },
        "id": "ITizz3IksEEo",
        "outputId": "7284f90b-f469-4978-826a-9bc777554b0d"
      },
      "execution_count": null,
      "outputs": [
        {
          "output_type": "stream",
          "name": "stdout",
          "text": [
            "'Assignment 1 Report.gdoc'  'Assignment 2 Report.gdoc'\t InternetSales.csv\n",
            "'Assignment 1 ZiqiZ.ipynb'  'Assignment 2 ZiqiZ.ipynb'\t'Student Performance Data.csv'\n"
          ]
        }
      ]
    },
    {
      "cell_type": "code",
      "source": [
        "import pandas as pd    #import the Pandas library and give it an alias 'pd'\n",
        "import numpy as np"
      ],
      "metadata": {
        "id": "iHtD6OoBsF27"
      },
      "execution_count": null,
      "outputs": []
    },
    {
      "cell_type": "code",
      "source": [
        "OG_dt = pd.read_csv('InternetSales.csv')\n",
        "OG_dt.head()"
      ],
      "metadata": {
        "colab": {
          "base_uri": "https://localhost:8080/",
          "height": 291
        },
        "id": "b2DXQfP_sHca",
        "outputId": "9f427fb1-3e25-4aec-90d7-3dfb23076fa6"
      },
      "execution_count": null,
      "outputs": [
        {
          "output_type": "stream",
          "name": "stderr",
          "text": [
            "<ipython-input-94-1497eabcab10>:1: DtypeWarning: Columns (14) have mixed types. Specify dtype option on import or set low_memory=False.\n",
            "  OG_dt = pd.read_csv('InternetSales.csv')\n"
          ]
        },
        {
          "output_type": "execute_result",
          "data": {
            "text/plain": [
              "   ID  CustomerKey  GeographyKey         City CountryRegionCode  \\\n",
              "0   0        11000            26  Rockhampton                AU   \n",
              "1   1        11000            26  Rockhampton                AU   \n",
              "2   2        11000            26  Rockhampton                AU   \n",
              "3   3        11000            26  Rockhampton                AU   \n",
              "4   4        11000            26  Rockhampton                AU   \n",
              "\n",
              "  EnglishCountryRegionName CustomerAlternateKey Title FirstName MiddleName  \\\n",
              "0                Australia           AW00011000   NaN       Jon          V   \n",
              "1                Australia           AW00011000   NaN       Jon          V   \n",
              "2                Australia           AW00011000   NaN       Jon          V   \n",
              "3                Australia           AW00011000   NaN       Jon          V   \n",
              "4                Australia           AW00011000   NaN       Jon          V   \n",
              "\n",
              "   ... ProductStandardCost  TotalProductCost SalesAmount TaxAmt Freight  \\\n",
              "0  ...              1912.2            1912.2      3400.0  272.0    85.0   \n",
              "1  ...              1265.6            1265.6      2320.0  185.6    58.0   \n",
              "2  ...                 8.2               8.2        22.0    1.8     0.5   \n",
              "3  ...              1481.9            1481.9      2384.1  190.7    59.6   \n",
              "4  ...                10.8              10.8        29.0    2.3     0.7   \n",
              "\n",
              "  CarrierTrackingNumber CustomerPONumber  OrderDate    DueDate   ShipDate  \n",
              "0                   NaN              NaN  1/19/2011  1/31/2011  1/26/2011  \n",
              "1                   NaN              NaN  1/18/2013  1/30/2013  1/25/2013  \n",
              "2                   NaN              NaN  1/18/2013  1/30/2013  1/25/2013  \n",
              "3                   NaN              NaN   5/3/2013  5/15/2013  5/10/2013  \n",
              "4                   NaN              NaN   5/3/2013  5/15/2013  5/10/2013  \n",
              "\n",
              "[5 rows x 60 columns]"
            ],
            "text/html": [
              "\n",
              "  <div id=\"df-b874fb5a-e41a-4714-a35f-7bc8527bec7d\" class=\"colab-df-container\">\n",
              "    <div>\n",
              "<style scoped>\n",
              "    .dataframe tbody tr th:only-of-type {\n",
              "        vertical-align: middle;\n",
              "    }\n",
              "\n",
              "    .dataframe tbody tr th {\n",
              "        vertical-align: top;\n",
              "    }\n",
              "\n",
              "    .dataframe thead th {\n",
              "        text-align: right;\n",
              "    }\n",
              "</style>\n",
              "<table border=\"1\" class=\"dataframe\">\n",
              "  <thead>\n",
              "    <tr style=\"text-align: right;\">\n",
              "      <th></th>\n",
              "      <th>ID</th>\n",
              "      <th>CustomerKey</th>\n",
              "      <th>GeographyKey</th>\n",
              "      <th>City</th>\n",
              "      <th>CountryRegionCode</th>\n",
              "      <th>EnglishCountryRegionName</th>\n",
              "      <th>CustomerAlternateKey</th>\n",
              "      <th>Title</th>\n",
              "      <th>FirstName</th>\n",
              "      <th>MiddleName</th>\n",
              "      <th>...</th>\n",
              "      <th>ProductStandardCost</th>\n",
              "      <th>TotalProductCost</th>\n",
              "      <th>SalesAmount</th>\n",
              "      <th>TaxAmt</th>\n",
              "      <th>Freight</th>\n",
              "      <th>CarrierTrackingNumber</th>\n",
              "      <th>CustomerPONumber</th>\n",
              "      <th>OrderDate</th>\n",
              "      <th>DueDate</th>\n",
              "      <th>ShipDate</th>\n",
              "    </tr>\n",
              "  </thead>\n",
              "  <tbody>\n",
              "    <tr>\n",
              "      <th>0</th>\n",
              "      <td>0</td>\n",
              "      <td>11000</td>\n",
              "      <td>26</td>\n",
              "      <td>Rockhampton</td>\n",
              "      <td>AU</td>\n",
              "      <td>Australia</td>\n",
              "      <td>AW00011000</td>\n",
              "      <td>NaN</td>\n",
              "      <td>Jon</td>\n",
              "      <td>V</td>\n",
              "      <td>...</td>\n",
              "      <td>1912.2</td>\n",
              "      <td>1912.2</td>\n",
              "      <td>3400.0</td>\n",
              "      <td>272.0</td>\n",
              "      <td>85.0</td>\n",
              "      <td>NaN</td>\n",
              "      <td>NaN</td>\n",
              "      <td>1/19/2011</td>\n",
              "      <td>1/31/2011</td>\n",
              "      <td>1/26/2011</td>\n",
              "    </tr>\n",
              "    <tr>\n",
              "      <th>1</th>\n",
              "      <td>1</td>\n",
              "      <td>11000</td>\n",
              "      <td>26</td>\n",
              "      <td>Rockhampton</td>\n",
              "      <td>AU</td>\n",
              "      <td>Australia</td>\n",
              "      <td>AW00011000</td>\n",
              "      <td>NaN</td>\n",
              "      <td>Jon</td>\n",
              "      <td>V</td>\n",
              "      <td>...</td>\n",
              "      <td>1265.6</td>\n",
              "      <td>1265.6</td>\n",
              "      <td>2320.0</td>\n",
              "      <td>185.6</td>\n",
              "      <td>58.0</td>\n",
              "      <td>NaN</td>\n",
              "      <td>NaN</td>\n",
              "      <td>1/18/2013</td>\n",
              "      <td>1/30/2013</td>\n",
              "      <td>1/25/2013</td>\n",
              "    </tr>\n",
              "    <tr>\n",
              "      <th>2</th>\n",
              "      <td>2</td>\n",
              "      <td>11000</td>\n",
              "      <td>26</td>\n",
              "      <td>Rockhampton</td>\n",
              "      <td>AU</td>\n",
              "      <td>Australia</td>\n",
              "      <td>AW00011000</td>\n",
              "      <td>NaN</td>\n",
              "      <td>Jon</td>\n",
              "      <td>V</td>\n",
              "      <td>...</td>\n",
              "      <td>8.2</td>\n",
              "      <td>8.2</td>\n",
              "      <td>22.0</td>\n",
              "      <td>1.8</td>\n",
              "      <td>0.5</td>\n",
              "      <td>NaN</td>\n",
              "      <td>NaN</td>\n",
              "      <td>1/18/2013</td>\n",
              "      <td>1/30/2013</td>\n",
              "      <td>1/25/2013</td>\n",
              "    </tr>\n",
              "    <tr>\n",
              "      <th>3</th>\n",
              "      <td>3</td>\n",
              "      <td>11000</td>\n",
              "      <td>26</td>\n",
              "      <td>Rockhampton</td>\n",
              "      <td>AU</td>\n",
              "      <td>Australia</td>\n",
              "      <td>AW00011000</td>\n",
              "      <td>NaN</td>\n",
              "      <td>Jon</td>\n",
              "      <td>V</td>\n",
              "      <td>...</td>\n",
              "      <td>1481.9</td>\n",
              "      <td>1481.9</td>\n",
              "      <td>2384.1</td>\n",
              "      <td>190.7</td>\n",
              "      <td>59.6</td>\n",
              "      <td>NaN</td>\n",
              "      <td>NaN</td>\n",
              "      <td>5/3/2013</td>\n",
              "      <td>5/15/2013</td>\n",
              "      <td>5/10/2013</td>\n",
              "    </tr>\n",
              "    <tr>\n",
              "      <th>4</th>\n",
              "      <td>4</td>\n",
              "      <td>11000</td>\n",
              "      <td>26</td>\n",
              "      <td>Rockhampton</td>\n",
              "      <td>AU</td>\n",
              "      <td>Australia</td>\n",
              "      <td>AW00011000</td>\n",
              "      <td>NaN</td>\n",
              "      <td>Jon</td>\n",
              "      <td>V</td>\n",
              "      <td>...</td>\n",
              "      <td>10.8</td>\n",
              "      <td>10.8</td>\n",
              "      <td>29.0</td>\n",
              "      <td>2.3</td>\n",
              "      <td>0.7</td>\n",
              "      <td>NaN</td>\n",
              "      <td>NaN</td>\n",
              "      <td>5/3/2013</td>\n",
              "      <td>5/15/2013</td>\n",
              "      <td>5/10/2013</td>\n",
              "    </tr>\n",
              "  </tbody>\n",
              "</table>\n",
              "<p>5 rows × 60 columns</p>\n",
              "</div>\n",
              "    <div class=\"colab-df-buttons\">\n",
              "\n",
              "  <div class=\"colab-df-container\">\n",
              "    <button class=\"colab-df-convert\" onclick=\"convertToInteractive('df-b874fb5a-e41a-4714-a35f-7bc8527bec7d')\"\n",
              "            title=\"Convert this dataframe to an interactive table.\"\n",
              "            style=\"display:none;\">\n",
              "\n",
              "  <svg xmlns=\"http://www.w3.org/2000/svg\" height=\"24px\" viewBox=\"0 -960 960 960\">\n",
              "    <path d=\"M120-120v-720h720v720H120Zm60-500h600v-160H180v160Zm220 220h160v-160H400v160Zm0 220h160v-160H400v160ZM180-400h160v-160H180v160Zm440 0h160v-160H620v160ZM180-180h160v-160H180v160Zm440 0h160v-160H620v160Z\"/>\n",
              "  </svg>\n",
              "    </button>\n",
              "\n",
              "  <style>\n",
              "    .colab-df-container {\n",
              "      display:flex;\n",
              "      gap: 12px;\n",
              "    }\n",
              "\n",
              "    .colab-df-convert {\n",
              "      background-color: #E8F0FE;\n",
              "      border: none;\n",
              "      border-radius: 50%;\n",
              "      cursor: pointer;\n",
              "      display: none;\n",
              "      fill: #1967D2;\n",
              "      height: 32px;\n",
              "      padding: 0 0 0 0;\n",
              "      width: 32px;\n",
              "    }\n",
              "\n",
              "    .colab-df-convert:hover {\n",
              "      background-color: #E2EBFA;\n",
              "      box-shadow: 0px 1px 2px rgba(60, 64, 67, 0.3), 0px 1px 3px 1px rgba(60, 64, 67, 0.15);\n",
              "      fill: #174EA6;\n",
              "    }\n",
              "\n",
              "    .colab-df-buttons div {\n",
              "      margin-bottom: 4px;\n",
              "    }\n",
              "\n",
              "    [theme=dark] .colab-df-convert {\n",
              "      background-color: #3B4455;\n",
              "      fill: #D2E3FC;\n",
              "    }\n",
              "\n",
              "    [theme=dark] .colab-df-convert:hover {\n",
              "      background-color: #434B5C;\n",
              "      box-shadow: 0px 1px 3px 1px rgba(0, 0, 0, 0.15);\n",
              "      filter: drop-shadow(0px 1px 2px rgba(0, 0, 0, 0.3));\n",
              "      fill: #FFFFFF;\n",
              "    }\n",
              "  </style>\n",
              "\n",
              "    <script>\n",
              "      const buttonEl =\n",
              "        document.querySelector('#df-b874fb5a-e41a-4714-a35f-7bc8527bec7d button.colab-df-convert');\n",
              "      buttonEl.style.display =\n",
              "        google.colab.kernel.accessAllowed ? 'block' : 'none';\n",
              "\n",
              "      async function convertToInteractive(key) {\n",
              "        const element = document.querySelector('#df-b874fb5a-e41a-4714-a35f-7bc8527bec7d');\n",
              "        const dataTable =\n",
              "          await google.colab.kernel.invokeFunction('convertToInteractive',\n",
              "                                                    [key], {});\n",
              "        if (!dataTable) return;\n",
              "\n",
              "        const docLinkHtml = 'Like what you see? Visit the ' +\n",
              "          '<a target=\"_blank\" href=https://colab.research.google.com/notebooks/data_table.ipynb>data table notebook</a>'\n",
              "          + ' to learn more about interactive tables.';\n",
              "        element.innerHTML = '';\n",
              "        dataTable['output_type'] = 'display_data';\n",
              "        await google.colab.output.renderOutput(dataTable, element);\n",
              "        const docLink = document.createElement('div');\n",
              "        docLink.innerHTML = docLinkHtml;\n",
              "        element.appendChild(docLink);\n",
              "      }\n",
              "    </script>\n",
              "  </div>\n",
              "\n",
              "\n",
              "<div id=\"df-99e6bf46-e12a-4393-9ddc-dbc35aa3b537\">\n",
              "  <button class=\"colab-df-quickchart\" onclick=\"quickchart('df-99e6bf46-e12a-4393-9ddc-dbc35aa3b537')\"\n",
              "            title=\"Suggest charts.\"\n",
              "            style=\"display:none;\">\n",
              "\n",
              "<svg xmlns=\"http://www.w3.org/2000/svg\" height=\"24px\"viewBox=\"0 0 24 24\"\n",
              "     width=\"24px\">\n",
              "    <g>\n",
              "        <path d=\"M19 3H5c-1.1 0-2 .9-2 2v14c0 1.1.9 2 2 2h14c1.1 0 2-.9 2-2V5c0-1.1-.9-2-2-2zM9 17H7v-7h2v7zm4 0h-2V7h2v10zm4 0h-2v-4h2v4z\"/>\n",
              "    </g>\n",
              "</svg>\n",
              "  </button>\n",
              "\n",
              "<style>\n",
              "  .colab-df-quickchart {\n",
              "      --bg-color: #E8F0FE;\n",
              "      --fill-color: #1967D2;\n",
              "      --hover-bg-color: #E2EBFA;\n",
              "      --hover-fill-color: #174EA6;\n",
              "      --disabled-fill-color: #AAA;\n",
              "      --disabled-bg-color: #DDD;\n",
              "  }\n",
              "\n",
              "  [theme=dark] .colab-df-quickchart {\n",
              "      --bg-color: #3B4455;\n",
              "      --fill-color: #D2E3FC;\n",
              "      --hover-bg-color: #434B5C;\n",
              "      --hover-fill-color: #FFFFFF;\n",
              "      --disabled-bg-color: #3B4455;\n",
              "      --disabled-fill-color: #666;\n",
              "  }\n",
              "\n",
              "  .colab-df-quickchart {\n",
              "    background-color: var(--bg-color);\n",
              "    border: none;\n",
              "    border-radius: 50%;\n",
              "    cursor: pointer;\n",
              "    display: none;\n",
              "    fill: var(--fill-color);\n",
              "    height: 32px;\n",
              "    padding: 0;\n",
              "    width: 32px;\n",
              "  }\n",
              "\n",
              "  .colab-df-quickchart:hover {\n",
              "    background-color: var(--hover-bg-color);\n",
              "    box-shadow: 0 1px 2px rgba(60, 64, 67, 0.3), 0 1px 3px 1px rgba(60, 64, 67, 0.15);\n",
              "    fill: var(--button-hover-fill-color);\n",
              "  }\n",
              "\n",
              "  .colab-df-quickchart-complete:disabled,\n",
              "  .colab-df-quickchart-complete:disabled:hover {\n",
              "    background-color: var(--disabled-bg-color);\n",
              "    fill: var(--disabled-fill-color);\n",
              "    box-shadow: none;\n",
              "  }\n",
              "\n",
              "  .colab-df-spinner {\n",
              "    border: 2px solid var(--fill-color);\n",
              "    border-color: transparent;\n",
              "    border-bottom-color: var(--fill-color);\n",
              "    animation:\n",
              "      spin 1s steps(1) infinite;\n",
              "  }\n",
              "\n",
              "  @keyframes spin {\n",
              "    0% {\n",
              "      border-color: transparent;\n",
              "      border-bottom-color: var(--fill-color);\n",
              "      border-left-color: var(--fill-color);\n",
              "    }\n",
              "    20% {\n",
              "      border-color: transparent;\n",
              "      border-left-color: var(--fill-color);\n",
              "      border-top-color: var(--fill-color);\n",
              "    }\n",
              "    30% {\n",
              "      border-color: transparent;\n",
              "      border-left-color: var(--fill-color);\n",
              "      border-top-color: var(--fill-color);\n",
              "      border-right-color: var(--fill-color);\n",
              "    }\n",
              "    40% {\n",
              "      border-color: transparent;\n",
              "      border-right-color: var(--fill-color);\n",
              "      border-top-color: var(--fill-color);\n",
              "    }\n",
              "    60% {\n",
              "      border-color: transparent;\n",
              "      border-right-color: var(--fill-color);\n",
              "    }\n",
              "    80% {\n",
              "      border-color: transparent;\n",
              "      border-right-color: var(--fill-color);\n",
              "      border-bottom-color: var(--fill-color);\n",
              "    }\n",
              "    90% {\n",
              "      border-color: transparent;\n",
              "      border-bottom-color: var(--fill-color);\n",
              "    }\n",
              "  }\n",
              "</style>\n",
              "\n",
              "  <script>\n",
              "    async function quickchart(key) {\n",
              "      const quickchartButtonEl =\n",
              "        document.querySelector('#' + key + ' button');\n",
              "      quickchartButtonEl.disabled = true;  // To prevent multiple clicks.\n",
              "      quickchartButtonEl.classList.add('colab-df-spinner');\n",
              "      try {\n",
              "        const charts = await google.colab.kernel.invokeFunction(\n",
              "            'suggestCharts', [key], {});\n",
              "      } catch (error) {\n",
              "        console.error('Error during call to suggestCharts:', error);\n",
              "      }\n",
              "      quickchartButtonEl.classList.remove('colab-df-spinner');\n",
              "      quickchartButtonEl.classList.add('colab-df-quickchart-complete');\n",
              "    }\n",
              "    (() => {\n",
              "      let quickchartButtonEl =\n",
              "        document.querySelector('#df-99e6bf46-e12a-4393-9ddc-dbc35aa3b537 button');\n",
              "      quickchartButtonEl.style.display =\n",
              "        google.colab.kernel.accessAllowed ? 'block' : 'none';\n",
              "    })();\n",
              "  </script>\n",
              "</div>\n",
              "    </div>\n",
              "  </div>\n"
            ]
          },
          "metadata": {},
          "execution_count": 94
        }
      ]
    },
    {
      "cell_type": "markdown",
      "source": [
        "1. What are the Internet sales of AdventureWorks by year for each Country Region?"
      ],
      "metadata": {
        "id": "ky1EDh-Hsoq4"
      }
    },
    {
      "cell_type": "code",
      "source": [
        "# Create a copy of the original dataframe before making modifications\n",
        "modi_dt = OG_dt.copy()\n",
        "modi_dt['OrderDate'] = pd.to_datetime(modi_dt['OrderDate'])\n",
        "modi_dt['Year'] = modi_dt['OrderDate'].dt.year\n",
        "summary = modi_dt.groupby(['CountryRegionCode', 'Year'])['SalesAmount'].sum().reset_index()\n",
        "\n",
        "# Create a pivot table to better organize the grouped data\n",
        "pivot_table = summary.pivot(index='CountryRegionCode', columns='Year', values='SalesAmount')\n",
        "pivot_table = pivot_table.fillna(0)\n",
        "print(pivot_table)"
      ],
      "metadata": {
        "colab": {
          "base_uri": "https://localhost:8080/"
        },
        "id": "wEUrIkyGvIAY",
        "outputId": "d4a6908f-18ad-4ff5-9166-2603f45beb16"
      },
      "execution_count": null,
      "outputs": [
        {
          "output_type": "stream",
          "name": "stdout",
          "text": [
            "Year                 2010      2011      2012      2013    2014\n",
            "CountryRegionCode                                              \n",
            "AU                20909.8 2563732.2 2128407.5 4339443.4  8507.7\n",
            "CA                 3578.3  571571.8  307604.5 1085632.6  9457.6\n",
            "DE                    0.0  520500.2  608658.0 1761876.4  3277.8\n",
            "FR                 3400.0  410845.3  648065.5 1578511.8  3195.1\n",
            "GB                  699.1  550591.2  712701.0 2124007.3  3713.6\n",
            "US                14833.9 2458285.2 1437048.7 5462078.9 17542.8\n"
          ]
        }
      ]
    },
    {
      "cell_type": "code",
      "source": [
        "# Visualize in Bar Chart to show Internet sales of AdventureWorks by year for each Country Region\n",
        "import matplotlib.pyplot as plt\n",
        "import seaborn as sns\n",
        "\n",
        "country_rgcd = pivot_table.index\n",
        "years = pivot_table.columns\n",
        "data = pivot_table.values.T\n",
        "fig, ax = plt.subplots(figsize=(12, 6))\n",
        "bar_width = 0.15\n",
        "index = range(len(country_rgcd))\n",
        "for i, year in enumerate(years):\n",
        "    plt.bar([x + i * bar_width for x in index], data[i], bar_width, label=str(year))\n",
        "\n",
        "plt.xlabel('Country Region Code')\n",
        "plt.ylabel('Sales Amount')\n",
        "plt.title('Internet Sales of AdventureWorks by Year for each Country Region')\n",
        "plt.xticks([x + (len(years) - 1) * bar_width / 2 for x in index], country_rgcd)\n",
        "plt.legend(title='Year')\n",
        "\n",
        "plt.tight_layout()\n",
        "plt.show()"
      ],
      "metadata": {
        "colab": {
          "base_uri": "https://localhost:8080/",
          "height": 607
        },
        "id": "rkTXw24mwB7r",
        "outputId": "57e3f8de-96b3-4f07-b8c2-1b931a67a7fb"
      },
      "execution_count": null,
      "outputs": [
        {
          "output_type": "display_data",
          "data": {
            "text/plain": [
              "<Figure size 1200x600 with 1 Axes>"
            ],
            "image/png": "[encoded data removed]"
          },
          "metadata": {}
        }
      ]
    },
    {
      "cell_type": "markdown",
      "source": [
        "2. Generate summary statistics including min, max, and standard deviation for Yearly Income, Gender by Country Regions.  "
      ],
      "metadata": {
        "id": "NLddP-CBsrP3"
      }
    },
    {
      "cell_type": "code",
      "source": [
        "# Create a copy of the original dataframe before making modifications\n",
        "modi_dt2 = OG_dt.copy()\n",
        "summary_statistics = modi_dt2.groupby(['CountryRegionCode', 'Gender'])['YearlyIncome'].agg(['min', 'max', 'std'])\n",
        "summary_statistics = summary_statistics.reset_index()\n",
        "\n",
        "summary_statistics = summary_statistics.rename(columns={\n",
        "    'min': 'Minimum Yearly Income',\n",
        "    'max': 'Maximum Yearly Income',\n",
        "    'std': 'Standard Deviation of Yearly Income'\n",
        "})\n",
        "\n",
        "# Create another pivot table to better organize the grouped data statistics\n",
        "pivot_table2 = summary_statistics.pivot(index='CountryRegionCode', columns='Gender')\n",
        "\n",
        "print(pivot_table2)"
      ],
      "metadata": {
        "colab": {
          "base_uri": "https://localhost:8080/"
        },
        "id": "46ROhbcnsvVB",
        "outputId": "35e8f6dd-4c1c-40c9-e7a0-e76a4991895f"
      },
      "execution_count": null,
      "outputs": [
        {
          "output_type": "stream",
          "name": "stdout",
          "text": [
            "                  Minimum Yearly Income        Maximum Yearly Income          \\\n",
            "Gender                                F      M                     F       M   \n",
            "CountryRegionCode                                                              \n",
            "AU                                10000  10000                160000  170000   \n",
            "CA                                10000  10000                170000  170000   \n",
            "DE                                10000  10000                130000  130000   \n",
            "FR                                10000  10000                110000  110000   \n",
            "GB                                10000  10000                170000  170000   \n",
            "US                                10000  10000                170000  170000   \n",
            "\n",
            "                  Standard Deviation of Yearly Income          \n",
            "Gender                                              F       M  \n",
            "CountryRegionCode                                              \n",
            "AU                                            30614.0 32550.8  \n",
            "CA                                            19435.2 22702.9  \n",
            "DE                                            37622.8 37487.6  \n",
            "FR                                            28421.8 28665.7  \n",
            "GB                                            51130.7 50963.7  \n",
            "US                                            25498.8 26520.3  \n"
          ]
        }
      ]
    },
    {
      "cell_type": "markdown",
      "source": [
        "3. What is the average price of the product category that generates the most sales?"
      ],
      "metadata": {
        "id": "ehIr5TmnsvkN"
      }
    },
    {
      "cell_type": "code",
      "source": [
        "# Create a copy of the original dataframe before making modifications\n",
        "modi_dt3 = OG_dt.copy()\n",
        "category_sales = modi_dt3.groupby('EnglishProductName')['SalesAmount'].sum()\n",
        "\n",
        "# Highest total sales category\n",
        "higest_sales_category = category_sales.idxmax()\n",
        "higest_sales_category_dt = modi_dt3[modi_dt3['EnglishProductName'] == higest_sales_category]\n",
        "\n",
        "# Average price of the product category that generates the most sales\n",
        "avgprice_higest_sales_category = higest_sales_category_dt['UnitPrice'].mean()\n",
        "\n",
        "print(higest_sales_category,avgprice_higest_sales_category)\n",
        "# Answer in organized sentence\n",
        "print(f\"The average price of product category with most sales '{higest_sales_category}' is ${avgprice_higest_sales_category:.2f}\")"
      ],
      "metadata": {
        "colab": {
          "base_uri": "https://localhost:8080/"
        },
        "id": "7qas2iCwsyAh",
        "outputId": "9c38181b-4435-4aef-d30e-7a2ecdd470a1"
      },
      "execution_count": null,
      "outputs": [
        {
          "output_type": "stream",
          "name": "stdout",
          "text": [
            "Mountain-200 Black, 46 2215.27346483871\n",
            "The average price of product category with most sales 'Mountain-200 Black, 46' is $2215.27\n"
          ]
        }
      ]
    },
    {
      "cell_type": "markdown",
      "source": [
        "4. Does owning a home make a difference in sales? Explain your analysis."
      ],
      "metadata": {
        "id": "dlkx9Ny4syOG"
      }
    },
    {
      "cell_type": "code",
      "source": [
        "# Create a copy of the original dataframe before making modifications\n",
        "modi_dt4 = OG_dt.copy()\n",
        "\n",
        "# Group the data by whether the customer owns a house and calculate the sum of their Sales Amount\n",
        "summary = modi_dt4.groupby('HouseOwnerFlag')['SalesAmount'].sum()\n",
        "summary_df = summary.reset_index()\n",
        "summary_df = summary_df.rename(columns={'SalesAmount': 'Total Sales Amount'})\n",
        "pd.set_option('display.float_format', '{:.1f}'.format) # Showing the numbers in its full ratehr than in exponential notation\n",
        "\n",
        "#Display the summary without showing the default index number\n",
        "print(summary_df.to_string(index=False))"
      ],
      "metadata": {
        "colab": {
          "base_uri": "https://localhost:8080/"
        },
        "id": "i8kZ26ins0sx",
        "outputId": "fe49e2a6-814f-401b-fa8b-02c2042f3339"
      },
      "execution_count": null,
      "outputs": [
        {
          "output_type": "stream",
          "name": "stdout",
          "text": [
            " HouseOwnerFlag  Total Sales Amount\n",
            "              0           8973327.4\n",
            "              1          20385349.8\n"
          ]
        }
      ]
    },
    {
      "cell_type": "code",
      "source": [
        "# Create a copy of the original dataframe before making modifications\n",
        "modi_dt5 = OG_dt.copy()\n",
        "\n",
        "# Group the data by both 'Gender' and 'MaritalStatus' and calculate various summary statistics for 'Sales'\n",
        "summary = modi_dt5.groupby(['HouseOwnerFlag', 'Gender', 'MaritalStatus'])['SalesAmount'].agg(['mean', 'count', 'sum'])\n",
        "\n",
        "# Convert the summary to a DataFrame for a more organized format\n",
        "summary_df = summary.reset_index()\n",
        "\n",
        "# Rename the columns for clarity\n",
        "summary_df = summary_df.rename(columns={\n",
        "    'mean': 'Mean Sales',\n",
        "    'count': 'Sales Count',\n",
        "    'sum': 'Total Sales'\n",
        "})\n",
        "\n",
        "# Display the summary\n",
        "print(summary_df.to_string(index=False))"
      ],
      "metadata": {
        "colab": {
          "base_uri": "https://localhost:8080/"
        },
        "id": "HB8Mq1i0-X5d",
        "outputId": "913adb16-2654-4f31-eaf8-58d32a3dfbbc"
      },
      "execution_count": null,
      "outputs": [
        {
          "output_type": "stream",
          "name": "stdout",
          "text": [
            " HouseOwnerFlag Gender MaritalStatus  Mean Sales  Sales Count  Total Sales\n",
            "              0      F             M       425.4         2590    1101745.5\n",
            "              0      F             S       529.1         6478    3427771.1\n",
            "              0      M             M       407.7         3390    1382091.5\n",
            "              0      M             S       490.6         6241    3061719.3\n",
            "              1      F             M       467.8        13180    6165272.9\n",
            "              1      F             S       530.2         7769    4118829.2\n",
            "              1      M             M       463.3        14113    6538265.9\n",
            "              1      M             S       536.8         6637    3562981.9\n"
          ]
        }
      ]
    },
    {
      "cell_type": "code",
      "source": [
        "# Create a copy of the original dataframe before making modifications\n",
        "modi_dt6 = OG_dt.copy()\n",
        "\n",
        "summary = modi_dt6.groupby(['CountryRegionCode', 'HouseOwnerFlag'])['SalesAmount'].sum()\n",
        "summary_df = summary.reset_index()\n",
        "\n",
        "# Create a grouped bar chart\n",
        "fig, ax = plt.subplots(figsize=(12, 6))\n",
        "\n",
        "unique_regions = summary_df['CountryRegionCode'].unique()\n",
        "x = np.arange(len(unique_regions))\n",
        "\n",
        "bar_width = 0.35\n",
        "bar_positions_House = x - bar_width/2\n",
        "bar_positions_NoHouse = x + bar_width/2\n",
        "\n",
        "House_sales = summary_df[summary_df['HouseOwnerFlag'] == 1]['SalesAmount']\n",
        "NoHouse_sales = summary_df[summary_df['HouseOwnerFlag'] == 0]['SalesAmount']\n",
        "\n",
        "plt.bar(bar_positions_House, House_sales, bar_width, label='Own House', color='lightcoral')\n",
        "plt.bar(bar_positions_NoHouse, NoHouse_sales, bar_width, label='No House', color='royalblue')\n",
        "\n",
        "plt.xlabel('Country Region')\n",
        "plt.ylabel('Total Sales Amount')\n",
        "plt.title('Total Sales Amount by Country Region and House Ownership')\n",
        "plt.xticks(x, unique_regions)\n",
        "plt.legend()\n",
        "\n",
        "plt.show()"
      ],
      "metadata": {
        "colab": {
          "base_uri": "https://localhost:8080/",
          "height": 564
        },
        "id": "HER3cR65_3T0",
        "outputId": "e0a106f5-3404-4543-eecd-bd8ec2ca0330"
      },
      "execution_count": null,
      "outputs": [
        {
          "output_type": "display_data",
          "data": {
            "text/plain": [
              "<Figure size 1200x600 with 1 Axes>"
            ],
            "image/png": "[encoded data removed]"
          },
          "metadata": {}
        }
      ]
    }
  ]
}